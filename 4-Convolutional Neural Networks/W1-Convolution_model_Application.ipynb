{
 "cells": [
  {
   "cell_type": "markdown",
   "metadata": {},
   "source": [
    "# Convolutional Neural Networks: Application\n",
    "\n",
    "Welcome to Course 4's second assignment! In this notebook, you will:\n",
    "\n",
    "- Create a mood classifer using the TF Keras Sequential API\n",
    "- Build a ConvNet to identify sign language digits using the TF Keras Functional API\n",
    "\n",
    "**After this assignment you will be able to:**\n",
    "\n",
    "- Build and train a ConvNet in TensorFlow for a __binary__ classification problem\n",
    "- Build and train a ConvNet in TensorFlow for a __multiclass__ classification problem\n",
    "- Explain different use cases for the Sequential and Functional APIs\n",
    "\n",
    "To complete this assignment, you should already be familiar with TensorFlow. If you are not, please refer back to the **TensorFlow Tutorial** of the third week of Course 2 (\"**Improving deep neural networks**\")."
   ]
  },
  {
   "cell_type": "markdown",
   "metadata": {},
   "source": [
    "## Table of Contents\n",
    "\n",
    "- [1 - Packages](#1)\n",
    "    - [1.1 - Load the Data and Split the Data into Train/Test Sets](#1-1)\n",
    "- [2 - Layers in TF Keras](#2)\n",
    "- [3 - The Sequential API](#3)\n",
    "    - [3.1 - Create the Sequential Model](#3-1)\n",
    "        - [Exercise 1 - happyModel](#ex-1)\n",
    "    - [3.2 - Train and Evaluate the Model](#3-2)\n",
    "- [4 - The Functional API](#4)\n",
    "    - [4.1 - Load the SIGNS Dataset](#4-1)\n",
    "    - [4.2 - Split the Data into Train/Test Sets](#4-2)\n",
    "    - [4.3 - Forward Propagation](#4-3)\n",
    "        - [Exercise 2 - convolutional_model](#ex-2)\n",
    "    - [4.4 - Train the Model](#4-4)\n",
    "- [5 - History Object](#5)\n",
    "- [6 - Bibliography](#6)"
   ]
  },
  {
   "cell_type": "markdown",
   "metadata": {},
   "source": [
    "<a name='1'></a>\n",
    "## 1 - Packages\n",
    "\n",
    "As usual, begin by loading in the packages."
   ]
  },
  {
   "cell_type": "code",
   "execution_count": 1,
   "metadata": {},
   "outputs": [],
   "source": [
    "import math\n",
    "import numpy as np\n",
    "import h5py\n",
    "import matplotlib.pyplot as plt\n",
    "from matplotlib.pyplot import imread\n",
    "import scipy\n",
    "from PIL import Image\n",
    "import pandas as pd\n",
    "import tensorflow as tf\n",
    "import tensorflow.keras.layers as tfl\n",
    "from tensorflow.python.framework import ops\n",
    "from cnn_utils import *\n",
    "from test_utils import summary, comparator\n",
    "\n",
    "%matplotlib inline\n",
    "np.random.seed(1)"
   ]
  },
  {
   "cell_type": "markdown",
   "metadata": {},
   "source": [
    "<a name='1-1'></a>\n",
    "### 1.1 - Load the Data and Split the Data into Train/Test Sets\n",
    "\n",
    "You'll be using the Happy House dataset for this part of the assignment, which contains images of peoples' faces. Your task will be to build a ConvNet that determines whether the people in the images are smiling or not -- because they only get to enter the house if they're smiling!  "
   ]
  },
  {
   "cell_type": "code",
   "execution_count": 2,
   "metadata": {},
   "outputs": [
    {
     "name": "stdout",
     "output_type": "stream",
     "text": [
      "number of training examples = 600\n",
      "number of test examples = 150\n",
      "X_train shape: (600, 64, 64, 3)\n",
      "Y_train shape: (600, 1)\n",
      "X_test shape: (150, 64, 64, 3)\n",
      "Y_test shape: (150, 1)\n"
     ]
    }
   ],
   "source": [
    "X_train_orig, Y_train_orig, X_test_orig, Y_test_orig, classes = load_happy_dataset()\n",
    "\n",
    "# Normalize image vectors\n",
    "X_train = X_train_orig/255.\n",
    "X_test = X_test_orig/255.\n",
    "\n",
    "# Reshape\n",
    "Y_train = Y_train_orig.T\n",
    "Y_test = Y_test_orig.T\n",
    "\n",
    "print (\"number of training examples = \" + str(X_train.shape[0]))\n",
    "print (\"number of test examples = \" + str(X_test.shape[0]))\n",
    "print (\"X_train shape: \" + str(X_train.shape))\n",
    "print (\"Y_train shape: \" + str(Y_train.shape))\n",
    "print (\"X_test shape: \" + str(X_test.shape))\n",
    "print (\"Y_test shape: \" + str(Y_test.shape))"
   ]
  },
  {
   "cell_type": "markdown",
   "metadata": {},
   "source": [
    "You can display the images contained in the dataset. Images are **64x64** pixels in RGB format (3 channels)."
   ]
  },
  {
   "cell_type": "code",
   "execution_count": 3,
   "metadata": {},
   "outputs": [
    {
     "data": {
      "image/png": "[encoded data removed]",
      "text/plain": [
       "<Figure size 432x288 with 1 Axes>"
      ]
     },
     "metadata": {
      "needs_background": "light"
     },
     "output_type": "display_data"
    }
   ],
   "source": [
    "index = 124\n",
    "plt.imshow(X_train_orig[index]) #display sample training image\n",
    "plt.show()"
   ]
  },
  {
   "cell_type": "markdown",
   "metadata": {},
   "source": [
    "<a name='2'></a>\n",
    "## 2 - Layers in TF Keras \n",
    "\n",
    "In the previous assignment, you created layers manually in numpy. In TF Keras, you don't have to write code directly to create layers. Rather, TF Keras has pre-defined layers you can use. \n",
    "\n",
    "When you create a layer in TF Keras, you are creating a function that takes some input and transforms it into an output you can reuse later. Nice and easy! "
   ]
  },
  {
   "cell_type": "markdown",
   "metadata": {},
   "source": [
    "<a name='3'></a>\n",
    "## 3 - The Sequential API\n",
    "\n",
    "In the previous assignment, you built helper functions using `numpy` to understand the mechanics behind convolutional neural networks. Most practical applications of deep learning today are built using programming frameworks, which have many built-in functions you can simply call. Keras is a high-level abstraction built on top of TensorFlow, which allows for even more simplified and optimized model creation and training. \n",
    "\n",
    "For the first part of this assignment, you'll create a model using TF Keras' Sequential API, which allows you to build layer by layer, and is ideal for building models where each layer has **exactly one** input tensor and **one** output tensor. \n",
    "\n",
    "As you'll see, using the Sequential API is simple and straightforward, but is only appropriate for simpler, more straightforward tasks. Later in this notebook you'll spend some time building with a more flexible, powerful alternative: the Functional API. \n",
    " "
   ]
  },
  {
   "cell_type": "markdown",
   "metadata": {},
   "source": [
    "<a name='3-1'></a>\n",
    "### 3.1 - Create the Sequential Model\n",
    "\n",
    "As mentioned earlier, the TensorFlow Keras Sequential API can be used to build simple models with layer operations that proceed in a sequential order. \n",
    "\n",
    "You can also add layers incrementally to a Sequential model with the `.add()` method, or remove them using the `.pop()` method, much like you would in a regular Python list.\n",
    "\n",
    "Actually, you can think of a Sequential model as behaving like a list of layers. Like Python lists, Sequential layers are ordered, and the order in which they are specified matters.  If your model is non-linear or contains layers with multiple inputs or outputs, a Sequential model wouldn't be the right choice!\n",
    "\n",
    "For any layer construction in Keras, you'll need to specify the input shape in advance. This is because in Keras, the shape of the weights is based on the shape of the inputs. The weights are only created when the model first sees some input data. Sequential models can be created by passing a list of layers to the Sequential constructor, like you will do in the next assignment.\n",
    "\n",
    "<a name='ex-1'></a>\n",
    "### Exercise 1 - happyModel\n",
    "\n",
    "Implement the `happyModel` function below to build the following model: `ZEROPAD2D -> CONV2D -> BATCHNORM -> RELU -> MAXPOOL -> FLATTEN -> DENSE`. Take help from [tf.keras.layers](https://www.tensorflow.org/api_docs/python/tf/keras/layers) \n",
    "\n",
    "Also, plug in the following parameters for all the steps:\n",
    "\n",
    " - [ZeroPadding2D](https://www.tensorflow.org/api_docs/python/tf/keras/layers/ZeroPadding2D): padding 3, input shape 64 x 64 x 3\n",
    " - [Conv2D](https://www.tensorflow.org/api_docs/python/tf/keras/layers/Conv2D): Use 32 7x7 filters, stride 1\n",
    " - [BatchNormalization](https://www.tensorflow.org/api_docs/python/tf/keras/layers/BatchNormalization): for axis 3\n",
    " - [ReLU](https://www.tensorflow.org/api_docs/python/tf/keras/layers/ReLU)\n",
    " - [MaxPool2D](https://www.tensorflow.org/api_docs/python/tf/keras/layers/MaxPool2D): Using default parameters\n",
    " - [Flatten](https://www.tensorflow.org/api_docs/python/tf/keras/layers/Flatten) the previous output.\n",
    " - Fully-connected ([Dense](https://www.tensorflow.org/api_docs/python/tf/keras/layers/Dense)) layer: Apply a fully connected layer with 1 neuron and a sigmoid activation. \n",
    " \n",
    " \n",
    " **Hint:**\n",
    " \n",
    " Use **tfl** as shorthand for **tensorflow.keras.layers**"
   ]
  },
  {
   "cell_type": "code",
   "execution_count": 8,
   "metadata": {
    "deletable": false,
    "nbgrader": {
     "cell_type": "code",
     "checksum": "95d28b191f257bdd5b70c7b8952559d5",
     "grade": false,
     "grade_id": "cell-0e56d3fc28b69aec",
     "locked": false,
     "schema_version": 3,
     "solution": true,
     "task": false
    }
   },
   "outputs": [],
   "source": [
    "# GRADED FUNCTION: happyModel\n",
    "\n",
    "def happyModel():\n",
    "    \"\"\"\n",
    "    Implements the forward propagation for the binary classification model:\n",
    "    ZEROPAD2D -> CONV2D -> BATCHNORM -> RELU -> MAXPOOL -> FLATTEN -> DENSE\n",
    "    \n",
    "    Note that for simplicity and grading purposes, you'll hard-code all the values\n",
    "    such as the stride and kernel (filter) sizes. \n",
    "    Normally, functions should take these values as function parameters.\n",
    "    \n",
    "    Arguments:\n",
    "    None\n",
    "\n",
    "    Returns:\n",
    "    model -- TF Keras model (object containing the information for the entire training process) \n",
    "    \"\"\"\n",
    "    model = tf.keras.Sequential([\n",
    "            ## ZeroPadding2D with padding 3, input shape of 64 x 64 x 3\n",
    "            \n",
    "            ## Conv2D with 32 7x7 filters and stride of 1\n",
    "            \n",
    "            ## BatchNormalization for axis 3\n",
    "            \n",
    "            ## ReLU\n",
    "            \n",
    "            ## Max Pooling 2D with default parameters\n",
    "            \n",
    "            ## Flatten layer\n",
    "            \n",
    "            ## Dense layer with 1 unit for output & 'sigmoid' activation\n",
    "            \n",
    "            # YOUR CODE STARTS HERE\n",
    "            \n",
    "            tfl.ZeroPadding2D(padding=3,input_shape=(64,64,3)),\n",
    "            tfl.Conv2D(filters=32,kernel_size=(7,7),strides=(1,1)),\n",
    "            tfl.BatchNormalization(axis=3),\n",
    "            tfl.ReLU(),\n",
    "            tfl.MaxPool2D(),\n",
    "            tfl.Flatten(),\n",
    "            tfl.Dense(units=1,activation='sigmoid')\n",
    "            \n",
    "            # YOUR CODE ENDS HERE\n",
    "        ])\n",
    "    \n",
    "    return model"
   ]
  },
  {
   "cell_type": "code",
   "execution_count": 9,
   "metadata": {
    "deletable": false,
    "editable": false,
    "nbgrader": {
     "cell_type": "code",
     "checksum": "8d3575c950e2e78149be2d05d671c80d",
     "grade": true,
     "grade_id": "cell-e3e1046e5c33d775",
     "locked": true,
     "points": 10,
     "schema_version": 3,
     "solution": false,
     "task": false
    }
   },
   "outputs": [
    {
     "name": "stdout",
     "output_type": "stream",
     "text": [
      "['ZeroPadding2D', (None, 70, 70, 3), 0, ((3, 3), (3, 3))]\n",
      "['Conv2D', (None, 64, 64, 32), 4736, 'valid', 'linear', 'GlorotUniform']\n",
      "['BatchNormalization', (None, 64, 64, 32), 128]\n",
      "['ReLU', (None, 64, 64, 32), 0]\n",
      "['MaxPooling2D', (None, 32, 32, 32), 0, (2, 2), (2, 2), 'valid']\n",
      "['Flatten', (None, 32768), 0]\n",
      "['Dense', (None, 1), 32769, 'sigmoid']\n",
      "\u001b[32mAll tests passed!\u001b[0m\n"
     ]
    }
   ],
   "source": [
    "happy_model = happyModel()\n",
    "# Print a summary for each layer\n",
    "for layer in summary(happy_model):\n",
    "    print(layer)\n",
    "    \n",
    "output = [['ZeroPadding2D', (None, 70, 70, 3), 0, ((3, 3), (3, 3))],\n",
    "            ['Conv2D', (None, 64, 64, 32), 4736, 'valid', 'linear', 'GlorotUniform'],\n",
    "            ['BatchNormalization', (None, 64, 64, 32), 128],\n",
    "            ['ReLU', (None, 64, 64, 32), 0],\n",
    "            ['MaxPooling2D', (None, 32, 32, 32), 0, (2, 2), (2, 2), 'valid'],\n",
    "            ['Flatten', (None, 32768), 0],\n",
    "            ['Dense', (None, 1), 32769, 'sigmoid']]\n",
    "    \n",
    "comparator(summary(happy_model), output)"
   ]
  },
  {
   "cell_type": "markdown",
   "metadata": {},
   "source": [
    "Now that your model is created, you can compile it for training with an optimizer and loss of your choice. When the string `accuracy` is specified as a metric, the type of accuracy used will be automatically converted based on the loss function used. This is one of the many optimizations built into TensorFlow that make your life easier! If you'd like to read more on how the compiler operates, check the docs [here](https://www.tensorflow.org/api_docs/python/tf/keras/Model#compile)."
   ]
  },
  {
   "cell_type": "code",
   "execution_count": 10,
   "metadata": {},
   "outputs": [],
   "source": [
    "happy_model.compile(optimizer='adam',\n",
    "                   loss='binary_crossentropy',\n",
    "                   metrics=['accuracy'])"
   ]
  },
  {
   "cell_type": "markdown",
   "metadata": {},
   "source": [
    "It's time to check your model's parameters with the `.summary()` method. This will display the types of layers you have, the shape of the outputs, and how many parameters are in each layer. "
   ]
  },
  {
   "cell_type": "code",
   "execution_count": 11,
   "metadata": {},
   "outputs": [
    {
     "name": "stdout",
     "output_type": "stream",
     "text": [
      "Model: \"sequential\"\n",
      "_________________________________________________________________\n",
      "Layer (type)                 Output Shape              Param #   \n",
      "=================================================================\n",
      "zero_padding2d_1 (ZeroPaddin (None, 70, 70, 3)         0         \n",
      "_________________________________________________________________\n",
      "conv2d_1 (Conv2D)            (None, 64, 64, 32)        4736      \n",
      "_________________________________________________________________\n",
      "batch_normalization_1 (Batch (None, 64, 64, 32)        128       \n",
      "_________________________________________________________________\n",
      "re_lu_1 (ReLU)               (None, 64, 64, 32)        0         \n",
      "_________________________________________________________________\n",
      "max_pooling2d_1 (MaxPooling2 (None, 32, 32, 32)        0         \n",
      "_________________________________________________________________\n",
      "flatten_1 (Flatten)          (None, 32768)             0         \n",
      "_________________________________________________________________\n",
      "dense (Dense)                (None, 1)                 32769     \n",
      "=================================================================\n",
      "Total params: 37,633\n",
      "Trainable params: 37,569\n",
      "Non-trainable params: 64\n",
      "_________________________________________________________________\n"
     ]
    }
   ],
   "source": [
    "happy_model.summary()"
   ]
  },
  {
   "cell_type": "markdown",
   "metadata": {},
   "source": [
    "<a name='3-2'></a>\n",
    "### 3.2 - Train and Evaluate the Model\n",
    "\n",
    "After creating the model, compiling it with your choice of optimizer and loss function, and doing a sanity check on its contents, you are now ready to build! \n",
    "\n",
    "Simply call `.fit()` to train. That's it! No need for mini-batching, saving, or complex backpropagation computations. That's all been done for you, as you're using a TensorFlow dataset with the batches specified already. You do have the option to specify epoch number or minibatch size if you like (for example, in the case of an un-batched dataset)."
   ]
  },
  {
   "cell_type": "code",
   "execution_count": 12,
   "metadata": {},
   "outputs": [
    {
     "name": "stdout",
     "output_type": "stream",
     "text": [
      "Epoch 1/10\n",
      "38/38 [==============================] - 4s 92ms/step - loss: 2.1514 - accuracy: 0.6517\n",
      "Epoch 2/10\n",
      "38/38 [==============================] - 3s 87ms/step - loss: 0.3561 - accuracy: 0.8550\n",
      "Epoch 3/10\n",
      "38/38 [==============================] - 3s 90ms/step - loss: 0.1946 - accuracy: 0.9283\n",
      "Epoch 4/10\n",
      "38/38 [==============================] - 3s 87ms/step - loss: 0.1256 - accuracy: 0.9567\n",
      "Epoch 5/10\n",
      "38/38 [==============================] - 3s 89ms/step - loss: 0.1466 - accuracy: 0.9517\n",
      "Epoch 6/10\n",
      "38/38 [==============================] - 3s 87ms/step - loss: 0.1176 - accuracy: 0.9533\n",
      "Epoch 7/10\n",
      "38/38 [==============================] - 3s 87ms/step - loss: 0.1239 - accuracy: 0.9567\n",
      "Epoch 8/10\n",
      "38/38 [==============================] - 3s 87ms/step - loss: 0.1715 - accuracy: 0.9383\n",
      "Epoch 9/10\n",
      "38/38 [==============================] - 3s 90ms/step - loss: 0.1181 - accuracy: 0.9567\n",
      "Epoch 10/10\n",
      "38/38 [==============================] - 3s 89ms/step - loss: 0.0671 - accuracy: 0.9750\n"
     ]
    },
    {
     "data": {
      "text/plain": [
       "<tensorflow.python.keras.callbacks.History at 0x7fe9a88978d0>"
      ]
     },
     "execution_count": 12,
     "metadata": {},
     "output_type": "execute_result"
    }
   ],
   "source": [
    "happy_model.fit(X_train, Y_train, epochs=10, batch_size=16)"
   ]
  },
  {
   "cell_type": "markdown",
   "metadata": {},
   "source": [
    "After that completes, just use `.evaluate()` to evaluate against your test set. This function will print the value of the loss function and the performance metrics specified during the compilation of the model. In this case, the `binary_crossentropy` and the `accuracy` respectively."
   ]
  },
  {
   "cell_type": "code",
   "execution_count": 13,
   "metadata": {},
   "outputs": [
    {
     "name": "stdout",
     "output_type": "stream",
     "text": [
      "5/5 [==============================] - 0s 22ms/step - loss: 0.1645 - accuracy: 0.9267\n"
     ]
    },
    {
     "data": {
      "text/plain": [
       "[0.1645105630159378, 0.9266666769981384]"
      ]
     },
     "execution_count": 13,
     "metadata": {},
     "output_type": "execute_result"
    }
   ],
   "source": [
    "happy_model.evaluate(X_test, Y_test)"
   ]
  },
  {
   "cell_type": "markdown",
   "metadata": {},
   "source": [
    "Easy, right? But what if you need to build a model with shared layers, branches, or multiple inputs and outputs? This is where Sequential, with its beautifully simple yet limited functionality, won't be able to help you. \n",
    "\n",
    "Next up: Enter the Functional API, your slightly more complex, highly flexible friend.  "
   ]
  },
  {
   "cell_type": "markdown",
   "metadata": {},
   "source": [
    "<a name='4'></a>\n",
    "## 4 - The Functional API"
   ]
  },
  {
   "cell_type": "markdown",
   "metadata": {},
   "source": [
    "Welcome to the second half of the assignment, where you'll use Keras' flexible [Functional API](https://www.tensorflow.org/guide/keras/functional) to build a ConvNet that can differentiate between 6 sign language digits. \n",
    "\n",
    "The Functional API can handle models with non-linear topology, shared layers, as well as layers with multiple inputs or outputs. Imagine that, where the Sequential API requires the model to move in a linear fashion through its layers, the Functional API allows much more flexibility. Where Sequential is a straight line, a Functional model is a graph, where the nodes of the layers can connect in many more ways than one. \n",
    "\n",
    "In the visual example below, the one possible direction of the movement Sequential model is shown in contrast to a skip connection, which is just one of the many ways a Functional model can be constructed. A skip connection, as you might have guessed, skips some layer in the network and feeds the output to a later layer in the network. Don't worry, you'll be spending more time with skip connections very soon! "
   ]
  },
  {
   "cell_type": "markdown",
   "metadata": {},
   "source": [
    "<img src=\"images/seq_vs_func.png\" style=\"width:350px;height:200px;\">"
   ]
  },
  {
   "cell_type": "markdown",
   "metadata": {},
   "source": [
    "<a name='4-1'></a>\n",
    "### 4.1 - Load the SIGNS Dataset\n",
    "\n",
    "As a reminder, the SIGNS dataset is a collection of 6 signs representing numbers from 0 to 5."
   ]
  },
  {
   "cell_type": "code",
   "execution_count": 14,
   "metadata": {},
   "outputs": [],
   "source": [
    "# Loading the data (signs)\n",
    "X_train_orig, Y_train_orig, X_test_orig, Y_test_orig, classes = load_signs_dataset()"
   ]
  },
  {
   "cell_type": "markdown",
   "metadata": {},
   "source": [
    "<img src=\"images/SIGNS.png\" style=\"width:800px;height:300px;\">\n",
    "\n",
    "The next cell will show you an example of a labelled image in the dataset. Feel free to change the value of `index` below and re-run to see different examples. "
   ]
  },
  {
   "cell_type": "code",
   "execution_count": 15,
   "metadata": {},
   "outputs": [
    {
     "name": "stdout",
     "output_type": "stream",
     "text": [
      "y = 4\n"
     ]
    },
    {
     "data": {
      "image/png": "[encoded data removed]",
      "text/plain": [
       "<Figure size 432x288 with 1 Axes>"
      ]
     },
     "metadata": {
      "needs_background": "light"
     },
     "output_type": "display_data"
    }
   ],
   "source": [
    "# Example of an image from the dataset\n",
    "index = 9\n",
    "plt.imshow(X_train_orig[index])\n",
    "print (\"y = \" + str(np.squeeze(Y_train_orig[:, index])))"
   ]
  },
  {
   "cell_type": "markdown",
   "metadata": {},
   "source": [
    "<a name='4-2'></a>\n",
    "### 4.2 - Split the Data into Train/Test Sets\n",
    "\n",
    "In Course 2, you built a fully-connected network for this dataset. But since this is an image dataset, it is more natural to apply a ConvNet to it.\n",
    "\n",
    "To get started, let's examine the shapes of your data. "
   ]
  },
  {
   "cell_type": "code",
   "execution_count": 16,
   "metadata": {},
   "outputs": [
    {
     "name": "stdout",
     "output_type": "stream",
     "text": [
      "number of training examples = 1080\n",
      "number of test examples = 120\n",
      "X_train shape: (1080, 64, 64, 3)\n",
      "Y_train shape: (1080, 6)\n",
      "X_test shape: (120, 64, 64, 3)\n",
      "Y_test shape: (120, 6)\n"
     ]
    }
   ],
   "source": [
    "X_train = X_train_orig/255.\n",
    "X_test = X_test_orig/255.\n",
    "Y_train = convert_to_one_hot(Y_train_orig, 6).T\n",
    "Y_test = convert_to_one_hot(Y_test_orig, 6).T\n",
    "print (\"number of training examples = \" + str(X_train.shape[0]))\n",
    "print (\"number of test examples = \" + str(X_test.shape[0]))\n",
    "print (\"X_train shape: \" + str(X_train.shape))\n",
    "print (\"Y_train shape: \" + str(Y_train.shape))\n",
    "print (\"X_test shape: \" + str(X_test.shape))\n",
    "print (\"Y_test shape: \" + str(Y_test.shape))"
   ]
  },
  {
   "cell_type": "markdown",
   "metadata": {},
   "source": [
    "<a name='4-3'></a>\n",
    "### 4.3 - Forward Propagation\n",
    "\n",
    "In TensorFlow, there are built-in functions that implement the convolution steps for you. By now, you should be familiar with how TensorFlow builds computational graphs. In the [Functional API](https://www.tensorflow.org/guide/keras/functional), you create a graph of layers. This is what allows such great flexibility.\n",
    "\n",
    "However, the following model could also be defined using the Sequential API since the information flow is on a single line. But don't deviate. What we want you to learn is to use the functional API.\n",
    "\n",
    "Begin building your graph of layers by creating an input node that functions as a callable object:\n",
    "\n",
    "- **input_img = tf.keras.Input(shape=input_shape):** \n",
    "\n",
    "Then, create a new node in the graph of layers by calling a layer on the `input_img` object: \n",
    "\n",
    "- **tf.keras.layers.Conv2D(filters= ... , kernel_size= ... , padding='same')(input_img):** Read the full documentation on [Conv2D](https://www.tensorflow.org/api_docs/python/tf/keras/layers/Conv2D).\n",
    "\n",
    "- **tf.keras.layers.MaxPool2D(pool_size=(f, f), strides=(s, s), padding='same'):** `MaxPool2D()` downsamples your input using a window of size (f, f) and strides of size (s, s) to carry out max pooling over each window.  For max pooling, you usually operate on a single example at a time and a single channel at a time. Read the full documentation on [MaxPool2D](https://www.tensorflow.org/api_docs/python/tf/keras/layers/MaxPool2D).\n",
    "\n",
    "- **tf.keras.layers.ReLU():** computes the elementwise ReLU of Z (which can be any shape). You can read the full documentation on [ReLU](https://www.tensorflow.org/api_docs/python/tf/keras/layers/ReLU).\n",
    "\n",
    "- **tf.keras.layers.Flatten()**: given a tensor \"P\", this function takes each training (or test) example in the batch and flattens it into a 1D vector.  \n",
    "\n",
    "    * If a tensor P has the shape (batch_size,h,w,c), it returns a flattened tensor with shape (batch_size, k), where $k=h \\times w \\times c$.  \"k\" equals the product of all the dimension sizes other than the first dimension.\n",
    "    \n",
    "    * For example, given a tensor with dimensions [100, 2, 3, 4], it flattens the tensor to be of shape [100, 24], where 24 = 2 * 3 * 4.  You can read the full documentation on [Flatten](https://www.tensorflow.org/api_docs/python/tf/keras/layers/Flatten).\n",
    "\n",
    "- **tf.keras.layers.Dense(units= ... , activation='softmax')(F):** given the flattened input F, it returns the output computed using a fully connected layer. You can read the full documentation on [Dense](https://www.tensorflow.org/api_docs/python/tf/keras/layers/Dense).\n",
    "\n",
    "In the last function above (`tf.keras.layers.Dense()`), the fully connected layer automatically initializes weights in the graph and keeps on training them as you train the model. Hence, you did not need to initialize those weights when initializing the parameters.\n",
    "\n",
    "Lastly, before creating the model, you'll need to define the output using the last of the function's compositions (in this example, a Dense layer): \n",
    "\n",
    "- **outputs = tf.keras.layers.Dense(units=6, activation='softmax')(F)**\n",
    "\n",
    "\n",
    "#### Window, kernel, filter, pool\n",
    "\n",
    "The words \"kernel\" and \"filter\" are used to refer to the same thing. The word \"filter\" accounts for the amount of \"kernels\" that will be used in a single convolution layer. \"Pool\" is the name of the operation that takes the max or average value of the kernels. \n",
    "\n",
    "This is why the parameter `pool_size` refers to `kernel_size`, and you use `(f,f)` to refer to the filter size. \n",
    "\n",
    "Pool size and kernel size refer to the same thing in different objects - They refer to the shape of the window where the operation takes place. "
   ]
  },
  {
   "cell_type": "markdown",
   "metadata": {},
   "source": [
    "<a name='ex-2'></a>\n",
    "### Exercise 2 - convolutional_model\n",
    "\n",
    "Implement the `convolutional_model` function below to build the following model: `CONV2D -> RELU -> MAXPOOL -> CONV2D -> RELU -> MAXPOOL -> FLATTEN -> DENSE`. Use the functions above! \n",
    "\n",
    "Also, plug in the following parameters for all the steps:\n",
    "\n",
    " - [Conv2D](https://www.tensorflow.org/api_docs/python/tf/keras/layers/Conv2D): Use 8 4 by 4 filters, stride 1, padding is \"SAME\"\n",
    " - [ReLU](https://www.tensorflow.org/api_docs/python/tf/keras/layers/ReLU)\n",
    " - [MaxPool2D](https://www.tensorflow.org/api_docs/python/tf/keras/layers/MaxPool2D): Use an 8 by 8 filter size and an 8 by 8 stride, padding is \"SAME\"\n",
    " - **Conv2D**: Use 16 2 by 2 filters, stride 1, padding is \"SAME\"\n",
    " - **ReLU**\n",
    " - **MaxPool2D**: Use a 4 by 4 filter size and a 4 by 4 stride, padding is \"SAME\"\n",
    " - [Flatten](https://www.tensorflow.org/api_docs/python/tf/keras/layers/Flatten) the previous output.\n",
    " - Fully-connected ([Dense](https://www.tensorflow.org/api_docs/python/tf/keras/layers/Dense)) layer: Apply a fully connected layer with 6 neurons and a softmax activation. "
   ]
  },
  {
   "cell_type": "code",
   "execution_count": 27,
   "metadata": {
    "deletable": false,
    "nbgrader": {
     "cell_type": "code",
     "checksum": "f58643806aa8380c96225fc8b4c5e7aa",
     "grade": false,
     "grade_id": "cell-dac51744a9e03f51",
     "locked": false,
     "schema_version": 3,
     "solution": true,
     "task": false
    }
   },
   "outputs": [],
   "source": [
    "# GRADED FUNCTION: convolutional_model\n",
    "\n",
    "def convolutional_model(input_shape):\n",
    "    \"\"\"\n",
    "    Implements the forward propagation for the model:\n",
    "    CONV2D -> RELU -> MAXPOOL -> CONV2D -> RELU -> MAXPOOL -> FLATTEN -> DENSE\n",
    "    \n",
    "    Note that for simplicity and grading purposes, you'll hard-code some values\n",
    "    such as the stride and kernel (filter) sizes. \n",
    "    Normally, functions should take these values as function parameters.\n",
    "    \n",
    "    Arguments:\n",
    "    input_img -- input dataset, of shape (input_shape)\n",
    "\n",
    "    Returns:\n",
    "    model -- TF Keras model (object containing the information for the entire training process) \n",
    "    \"\"\"\n",
    "\n",
    "    input_img = tf.keras.Input(shape=input_shape)\n",
    "    ## CONV2D: 8 filters 4x4, stride of 1, padding 'SAME'\n",
    "    # Z1 = None\n",
    "    ## RELU\n",
    "    # A1 = None\n",
    "    ## MAXPOOL: window 8x8, stride 8, padding 'SAME'\n",
    "    # P1 = None\n",
    "    ## CONV2D: 16 filters 2x2, stride 1, padding 'SAME'\n",
    "    # Z2 = None\n",
    "    ## RELU\n",
    "    # A2 = None\n",
    "    ## MAXPOOL: window 4x4, stride 4, padding 'SAME'\n",
    "    # P2 = None\n",
    "    ## FLATTEN\n",
    "    # F = None\n",
    "    ## Dense layer\n",
    "    ## 6 neurons in output layer. Hint: one of the arguments should be \"activation='softmax'\" \n",
    "    # outputs = None\n",
    "    # YOUR CODE STARTS HERE\n",
    "    \n",
    "    Z1 = tfl.Conv2D(filters=8,kernel_size=(4,4),strides=(1,1),padding='SAME')(input_img)\n",
    "    A1 = tfl.ReLU()(Z1)\n",
    "    P1 = tfl.MaxPool2D(pool_size=(8,8),strides=(8,8),padding='SAME')(A1)\n",
    "    Z2 = tfl.Conv2D(filters=16,kernel_size=(2,2),strides=(1,1),padding='SAME')(P1)\n",
    "    A2 = tfl.ReLU()(Z2)\n",
    "    P2 = tfl.MaxPool2D(pool_size=(4,4),strides=4,padding='SAME')(A2)\n",
    "    F = tfl.Flatten()(P2)\n",
    "    outputs = tfl.Dense(units=6,activation='softmax')(F)\n",
    "    \n",
    "    # YOUR CODE ENDS HERE\n",
    "    model = tf.keras.Model(inputs=input_img, outputs=outputs)\n",
    "    return model"
   ]
  },
  {
   "cell_type": "code",
   "execution_count": 28,
   "metadata": {
    "deletable": false,
    "editable": false,
    "nbgrader": {
     "cell_type": "code",
     "checksum": "483d626949930a0b0ef20997e7c6ba72",
     "grade": true,
     "grade_id": "cell-45d22e92042174c9",
     "locked": true,
     "points": 10,
     "schema_version": 3,
     "solution": false,
     "task": false
    }
   },
   "outputs": [
    {
     "name": "stdout",
     "output_type": "stream",
     "text": [
      "Model: \"functional_3\"\n",
      "_________________________________________________________________\n",
      "Layer (type)                 Output Shape              Param #   \n",
      "=================================================================\n",
      "input_6 (InputLayer)         [(None, 64, 64, 3)]       0         \n",
      "_________________________________________________________________\n",
      "conv2d_7 (Conv2D)            (None, 64, 64, 8)         392       \n",
      "_________________________________________________________________\n",
      "re_lu_7 (ReLU)               (None, 64, 64, 8)         0         \n",
      "_________________________________________________________________\n",
      "max_pooling2d_7 (MaxPooling2 (None, 8, 8, 8)           0         \n",
      "_________________________________________________________________\n",
      "conv2d_8 (Conv2D)            (None, 8, 8, 16)          528       \n",
      "_________________________________________________________________\n",
      "re_lu_8 (ReLU)               (None, 8, 8, 16)          0         \n",
      "_________________________________________________________________\n",
      "max_pooling2d_8 (MaxPooling2 (None, 2, 2, 16)          0         \n",
      "_________________________________________________________________\n",
      "flatten_4 (Flatten)          (None, 64)                0         \n",
      "_________________________________________________________________\n",
      "dense_3 (Dense)              (None, 6)                 390       \n",
      "=================================================================\n",
      "Total params: 1,310\n",
      "Trainable params: 1,310\n",
      "Non-trainable params: 0\n",
      "_________________________________________________________________\n",
      "\u001b[32mAll tests passed!\u001b[0m\n"
     ]
    }
   ],
   "source": [
    "conv_model = convolutional_model((64, 64, 3))\n",
    "conv_model.compile(optimizer='adam',\n",
    "                  loss='categorical_crossentropy',\n",
    "                  metrics=['accuracy'])\n",
    "conv_model.summary()\n",
    "    \n",
    "output = [['InputLayer', [(None, 64, 64, 3)], 0],\n",
    "        ['Conv2D', (None, 64, 64, 8), 392, 'same', 'linear', 'GlorotUniform'],\n",
    "        ['ReLU', (None, 64, 64, 8), 0],\n",
    "        ['MaxPooling2D', (None, 8, 8, 8), 0, (8, 8), (8, 8), 'same'],\n",
    "        ['Conv2D', (None, 8, 8, 16), 528, 'same', 'linear', 'GlorotUniform'],\n",
    "        ['ReLU', (None, 8, 8, 16), 0],\n",
    "        ['MaxPooling2D', (None, 2, 2, 16), 0, (4, 4), (4, 4), 'same'],\n",
    "        ['Flatten', (None, 64), 0],\n",
    "        ['Dense', (None, 6), 390, 'softmax']]\n",
    "    \n",
    "comparator(summary(conv_model), output)"
   ]
  },
  {
   "cell_type": "markdown",
   "metadata": {},
   "source": [
    "Both the Sequential and Functional APIs return a TF Keras model object. The only difference is how inputs are handled inside the object model! "
   ]
  },
  {
   "cell_type": "markdown",
   "metadata": {},
   "source": [
    "<a name='4-4'></a>\n",
    "### 4.4 - Train the Model"
   ]
  },
  {
   "cell_type": "code",
   "execution_count": 29,
   "metadata": {},
   "outputs": [
    {
     "name": "stdout",
     "output_type": "stream",
     "text": [
      "Epoch 1/100\n",
      "17/17 [==============================] - 2s 100ms/step - loss: 1.8513 - accuracy: 0.1944 - val_loss: 1.7890 - val_accuracy: 0.1500\n",
      "Epoch 2/100\n",
      "17/17 [==============================] - 2s 100ms/step - loss: 1.7857 - accuracy: 0.1741 - val_loss: 1.7794 - val_accuracy: 0.1667\n",
      "Epoch 3/100\n",
      "17/17 [==============================] - 2s 99ms/step - loss: 1.7759 - accuracy: 0.2315 - val_loss: 1.7734 - val_accuracy: 0.2833\n",
      "Epoch 4/100\n",
      "17/17 [==============================] - 2s 100ms/step - loss: 1.7698 - accuracy: 0.2824 - val_loss: 1.7691 - val_accuracy: 0.2750\n",
      "Epoch 5/100\n",
      "17/17 [==============================] - 2s 100ms/step - loss: 1.7636 - accuracy: 0.3176 - val_loss: 1.7641 - val_accuracy: 0.2917\n",
      "Epoch 6/100\n",
      "17/17 [==============================] - 2s 99ms/step - loss: 1.7570 - accuracy: 0.3463 - val_loss: 1.7572 - val_accuracy: 0.3833\n",
      "Epoch 7/100\n",
      "17/17 [==============================] - 2s 100ms/step - loss: 1.7497 - accuracy: 0.3472 - val_loss: 1.7502 - val_accuracy: 0.3750\n",
      "Epoch 8/100\n",
      "17/17 [==============================] - 2s 101ms/step - loss: 1.7414 - accuracy: 0.3833 - val_loss: 1.7414 - val_accuracy: 0.4167\n",
      "Epoch 9/100\n",
      "17/17 [==============================] - 2s 100ms/step - loss: 1.7308 - accuracy: 0.4111 - val_loss: 1.7308 - val_accuracy: 0.4333\n",
      "Epoch 10/100\n",
      "17/17 [==============================] - 2s 100ms/step - loss: 1.7191 - accuracy: 0.4269 - val_loss: 1.7193 - val_accuracy: 0.4583\n",
      "Epoch 11/100\n",
      "17/17 [==============================] - 2s 99ms/step - loss: 1.7054 - accuracy: 0.4343 - val_loss: 1.7046 - val_accuracy: 0.4583\n",
      "Epoch 12/100\n",
      "17/17 [==============================] - 2s 100ms/step - loss: 1.6891 - accuracy: 0.4481 - val_loss: 1.6891 - val_accuracy: 0.4583\n",
      "Epoch 13/100\n",
      "17/17 [==============================] - 2s 99ms/step - loss: 1.6704 - accuracy: 0.4528 - val_loss: 1.6700 - val_accuracy: 0.4500\n",
      "Epoch 14/100\n",
      "17/17 [==============================] - 2s 100ms/step - loss: 1.6481 - accuracy: 0.4694 - val_loss: 1.6469 - val_accuracy: 0.4583\n",
      "Epoch 15/100\n",
      "17/17 [==============================] - 2s 101ms/step - loss: 1.6223 - accuracy: 0.4833 - val_loss: 1.6200 - val_accuracy: 0.4833\n",
      "Epoch 16/100\n",
      "17/17 [==============================] - 2s 100ms/step - loss: 1.5927 - accuracy: 0.5065 - val_loss: 1.5890 - val_accuracy: 0.5333\n",
      "Epoch 17/100\n",
      "17/17 [==============================] - 2s 100ms/step - loss: 1.5582 - accuracy: 0.5093 - val_loss: 1.5525 - val_accuracy: 0.5333\n",
      "Epoch 18/100\n",
      "17/17 [==============================] - 2s 100ms/step - loss: 1.5214 - accuracy: 0.5120 - val_loss: 1.5139 - val_accuracy: 0.5333\n",
      "Epoch 19/100\n",
      "17/17 [==============================] - 2s 100ms/step - loss: 1.4824 - accuracy: 0.5287 - val_loss: 1.4745 - val_accuracy: 0.5750\n",
      "Epoch 20/100\n",
      "17/17 [==============================] - 2s 100ms/step - loss: 1.4431 - accuracy: 0.5333 - val_loss: 1.4350 - val_accuracy: 0.5667\n",
      "Epoch 21/100\n",
      "17/17 [==============================] - 2s 100ms/step - loss: 1.4038 - accuracy: 0.5352 - val_loss: 1.3964 - val_accuracy: 0.5750\n",
      "Epoch 22/100\n",
      "17/17 [==============================] - 2s 100ms/step - loss: 1.3655 - accuracy: 0.5361 - val_loss: 1.3591 - val_accuracy: 0.5500\n",
      "Epoch 23/100\n",
      "17/17 [==============================] - 2s 100ms/step - loss: 1.3286 - accuracy: 0.5417 - val_loss: 1.3242 - val_accuracy: 0.5500\n",
      "Epoch 24/100\n",
      "17/17 [==============================] - 2s 99ms/step - loss: 1.2939 - accuracy: 0.5491 - val_loss: 1.2907 - val_accuracy: 0.5583\n",
      "Epoch 25/100\n",
      "17/17 [==============================] - 2s 100ms/step - loss: 1.2607 - accuracy: 0.5602 - val_loss: 1.2597 - val_accuracy: 0.5750\n",
      "Epoch 26/100\n",
      "17/17 [==============================] - 2s 100ms/step - loss: 1.2297 - accuracy: 0.5639 - val_loss: 1.2306 - val_accuracy: 0.5917\n",
      "Epoch 27/100\n",
      "17/17 [==============================] - 2s 100ms/step - loss: 1.1997 - accuracy: 0.5759 - val_loss: 1.2038 - val_accuracy: 0.6000\n",
      "Epoch 28/100\n",
      "17/17 [==============================] - 2s 100ms/step - loss: 1.1729 - accuracy: 0.5870 - val_loss: 1.1791 - val_accuracy: 0.6000\n",
      "Epoch 29/100\n",
      "17/17 [==============================] - 2s 100ms/step - loss: 1.1460 - accuracy: 0.5963 - val_loss: 1.1524 - val_accuracy: 0.6250\n",
      "Epoch 30/100\n",
      "17/17 [==============================] - 2s 100ms/step - loss: 1.1198 - accuracy: 0.6074 - val_loss: 1.1280 - val_accuracy: 0.6333\n",
      "Epoch 31/100\n",
      "17/17 [==============================] - 2s 100ms/step - loss: 1.0965 - accuracy: 0.6157 - val_loss: 1.1098 - val_accuracy: 0.6417\n",
      "Epoch 32/100\n",
      "17/17 [==============================] - 2s 100ms/step - loss: 1.0757 - accuracy: 0.6204 - val_loss: 1.0920 - val_accuracy: 0.6500\n",
      "Epoch 33/100\n",
      "17/17 [==============================] - 2s 100ms/step - loss: 1.0560 - accuracy: 0.6278 - val_loss: 1.0726 - val_accuracy: 0.6583\n",
      "Epoch 34/100\n",
      "17/17 [==============================] - 2s 100ms/step - loss: 1.0365 - accuracy: 0.6389 - val_loss: 1.0581 - val_accuracy: 0.6583\n",
      "Epoch 35/100\n",
      "17/17 [==============================] - 2s 105ms/step - loss: 1.0177 - accuracy: 0.6481 - val_loss: 1.0420 - val_accuracy: 0.6583\n",
      "Epoch 36/100\n",
      "17/17 [==============================] - 2s 100ms/step - loss: 1.0005 - accuracy: 0.6528 - val_loss: 1.0281 - val_accuracy: 0.6667\n",
      "Epoch 37/100\n",
      "17/17 [==============================] - 2s 100ms/step - loss: 0.9832 - accuracy: 0.6583 - val_loss: 1.0144 - val_accuracy: 0.6750\n",
      "Epoch 38/100\n",
      "17/17 [==============================] - 2s 100ms/step - loss: 0.9677 - accuracy: 0.6676 - val_loss: 1.0024 - val_accuracy: 0.6833\n",
      "Epoch 39/100\n",
      "17/17 [==============================] - 2s 105ms/step - loss: 0.9530 - accuracy: 0.6769 - val_loss: 0.9904 - val_accuracy: 0.6833\n",
      "Epoch 40/100\n",
      "17/17 [==============================] - 2s 100ms/step - loss: 0.9374 - accuracy: 0.6778 - val_loss: 0.9770 - val_accuracy: 0.6833\n",
      "Epoch 41/100\n",
      "17/17 [==============================] - 2s 100ms/step - loss: 0.9214 - accuracy: 0.6806 - val_loss: 0.9672 - val_accuracy: 0.6833\n",
      "Epoch 42/100\n",
      "17/17 [==============================] - 2s 105ms/step - loss: 0.9060 - accuracy: 0.6870 - val_loss: 0.9525 - val_accuracy: 0.7000\n",
      "Epoch 43/100\n",
      "17/17 [==============================] - 2s 99ms/step - loss: 0.8913 - accuracy: 0.6898 - val_loss: 0.9420 - val_accuracy: 0.7000\n",
      "Epoch 44/100\n",
      "17/17 [==============================] - 2s 100ms/step - loss: 0.8771 - accuracy: 0.6889 - val_loss: 0.9307 - val_accuracy: 0.7083\n",
      "Epoch 45/100\n",
      "17/17 [==============================] - 2s 106ms/step - loss: 0.8635 - accuracy: 0.6954 - val_loss: 0.9203 - val_accuracy: 0.7083\n",
      "Epoch 46/100\n",
      "17/17 [==============================] - 2s 100ms/step - loss: 0.8508 - accuracy: 0.6981 - val_loss: 0.9108 - val_accuracy: 0.7167\n",
      "Epoch 47/100\n",
      "17/17 [==============================] - 2s 100ms/step - loss: 0.8385 - accuracy: 0.7009 - val_loss: 0.9012 - val_accuracy: 0.7250\n",
      "Epoch 48/100\n",
      "17/17 [==============================] - 2s 99ms/step - loss: 0.8265 - accuracy: 0.7074 - val_loss: 0.8927 - val_accuracy: 0.7000\n",
      "Epoch 49/100\n",
      "17/17 [==============================] - 2s 100ms/step - loss: 0.8159 - accuracy: 0.7083 - val_loss: 0.8836 - val_accuracy: 0.7333\n",
      "Epoch 50/100\n",
      "17/17 [==============================] - 2s 100ms/step - loss: 0.8054 - accuracy: 0.7139 - val_loss: 0.8753 - val_accuracy: 0.7250\n",
      "Epoch 51/100\n",
      "17/17 [==============================] - 2s 105ms/step - loss: 0.7949 - accuracy: 0.7157 - val_loss: 0.8665 - val_accuracy: 0.7250\n",
      "Epoch 52/100\n",
      "17/17 [==============================] - 2s 100ms/step - loss: 0.7850 - accuracy: 0.7167 - val_loss: 0.8589 - val_accuracy: 0.7250\n",
      "Epoch 53/100\n",
      "17/17 [==============================] - 2s 105ms/step - loss: 0.7757 - accuracy: 0.7185 - val_loss: 0.8514 - val_accuracy: 0.7417\n",
      "Epoch 54/100\n",
      "17/17 [==============================] - 2s 100ms/step - loss: 0.7668 - accuracy: 0.7222 - val_loss: 0.8438 - val_accuracy: 0.7333\n",
      "Epoch 55/100\n",
      "17/17 [==============================] - 2s 100ms/step - loss: 0.7582 - accuracy: 0.7259 - val_loss: 0.8367 - val_accuracy: 0.7333\n",
      "Epoch 56/100\n",
      "17/17 [==============================] - 2s 100ms/step - loss: 0.7497 - accuracy: 0.7296 - val_loss: 0.8288 - val_accuracy: 0.7333\n",
      "Epoch 57/100\n",
      "17/17 [==============================] - 2s 100ms/step - loss: 0.7415 - accuracy: 0.7361 - val_loss: 0.8220 - val_accuracy: 0.7333\n",
      "Epoch 58/100\n",
      "17/17 [==============================] - 2s 100ms/step - loss: 0.7334 - accuracy: 0.7407 - val_loss: 0.8153 - val_accuracy: 0.7333\n",
      "Epoch 59/100\n",
      "17/17 [==============================] - 2s 100ms/step - loss: 0.7256 - accuracy: 0.7426 - val_loss: 0.8085 - val_accuracy: 0.7333\n",
      "Epoch 60/100\n",
      "17/17 [==============================] - 2s 99ms/step - loss: 0.7184 - accuracy: 0.7444 - val_loss: 0.8028 - val_accuracy: 0.7250\n",
      "Epoch 61/100\n",
      "17/17 [==============================] - 2s 100ms/step - loss: 0.7111 - accuracy: 0.7509 - val_loss: 0.7972 - val_accuracy: 0.7250\n",
      "Epoch 62/100\n",
      "17/17 [==============================] - 2s 100ms/step - loss: 0.7039 - accuracy: 0.7537 - val_loss: 0.7919 - val_accuracy: 0.7250\n",
      "Epoch 63/100\n",
      "17/17 [==============================] - 2s 100ms/step - loss: 0.6966 - accuracy: 0.7546 - val_loss: 0.7870 - val_accuracy: 0.7417\n",
      "Epoch 64/100\n",
      "17/17 [==============================] - 2s 100ms/step - loss: 0.6900 - accuracy: 0.7611 - val_loss: 0.7827 - val_accuracy: 0.7417\n",
      "Epoch 65/100\n",
      "17/17 [==============================] - 2s 99ms/step - loss: 0.6827 - accuracy: 0.7611 - val_loss: 0.7768 - val_accuracy: 0.7417\n",
      "Epoch 66/100\n",
      "17/17 [==============================] - 2s 99ms/step - loss: 0.6760 - accuracy: 0.7639 - val_loss: 0.7731 - val_accuracy: 0.7417\n",
      "Epoch 67/100\n",
      "17/17 [==============================] - 2s 100ms/step - loss: 0.6695 - accuracy: 0.7657 - val_loss: 0.7690 - val_accuracy: 0.7333\n",
      "Epoch 68/100\n",
      "17/17 [==============================] - 2s 99ms/step - loss: 0.6630 - accuracy: 0.7667 - val_loss: 0.7648 - val_accuracy: 0.7417\n",
      "Epoch 69/100\n",
      "17/17 [==============================] - 2s 100ms/step - loss: 0.6566 - accuracy: 0.7731 - val_loss: 0.7588 - val_accuracy: 0.7417\n",
      "Epoch 70/100\n",
      "17/17 [==============================] - 2s 101ms/step - loss: 0.6497 - accuracy: 0.7787 - val_loss: 0.7529 - val_accuracy: 0.7417\n",
      "Epoch 71/100\n",
      "17/17 [==============================] - 2s 100ms/step - loss: 0.6432 - accuracy: 0.7815 - val_loss: 0.7463 - val_accuracy: 0.7583\n",
      "Epoch 72/100\n",
      "17/17 [==============================] - 2s 100ms/step - loss: 0.6364 - accuracy: 0.7843 - val_loss: 0.7406 - val_accuracy: 0.7583\n",
      "Epoch 73/100\n",
      "17/17 [==============================] - 2s 100ms/step - loss: 0.6303 - accuracy: 0.7852 - val_loss: 0.7365 - val_accuracy: 0.7500\n",
      "Epoch 74/100\n",
      "17/17 [==============================] - 2s 100ms/step - loss: 0.6231 - accuracy: 0.7907 - val_loss: 0.7290 - val_accuracy: 0.7667\n",
      "Epoch 75/100\n",
      "17/17 [==============================] - 2s 100ms/step - loss: 0.6171 - accuracy: 0.7935 - val_loss: 0.7250 - val_accuracy: 0.7583\n",
      "Epoch 76/100\n",
      "17/17 [==============================] - 2s 99ms/step - loss: 0.6113 - accuracy: 0.7944 - val_loss: 0.7179 - val_accuracy: 0.7750\n",
      "Epoch 77/100\n",
      "17/17 [==============================] - 2s 100ms/step - loss: 0.6049 - accuracy: 0.7954 - val_loss: 0.7137 - val_accuracy: 0.7667\n",
      "Epoch 78/100\n",
      "17/17 [==============================] - 2s 100ms/step - loss: 0.5988 - accuracy: 0.8009 - val_loss: 0.7056 - val_accuracy: 0.7667\n",
      "Epoch 79/100\n",
      "17/17 [==============================] - 2s 100ms/step - loss: 0.5931 - accuracy: 0.7981 - val_loss: 0.7022 - val_accuracy: 0.7667\n",
      "Epoch 80/100\n",
      "17/17 [==============================] - 2s 100ms/step - loss: 0.5869 - accuracy: 0.8037 - val_loss: 0.6954 - val_accuracy: 0.7667\n",
      "Epoch 81/100\n",
      "17/17 [==============================] - 2s 100ms/step - loss: 0.5809 - accuracy: 0.8037 - val_loss: 0.6897 - val_accuracy: 0.7667\n",
      "Epoch 82/100\n",
      "17/17 [==============================] - 2s 100ms/step - loss: 0.5750 - accuracy: 0.8065 - val_loss: 0.6847 - val_accuracy: 0.7667\n",
      "Epoch 83/100\n",
      "17/17 [==============================] - 2s 100ms/step - loss: 0.5698 - accuracy: 0.8102 - val_loss: 0.6800 - val_accuracy: 0.7667\n",
      "Epoch 84/100\n",
      "17/17 [==============================] - 2s 101ms/step - loss: 0.5637 - accuracy: 0.8111 - val_loss: 0.6720 - val_accuracy: 0.7667\n",
      "Epoch 85/100\n",
      "17/17 [==============================] - 2s 101ms/step - loss: 0.5583 - accuracy: 0.8148 - val_loss: 0.6698 - val_accuracy: 0.7583\n",
      "Epoch 86/100\n",
      "17/17 [==============================] - 2s 100ms/step - loss: 0.5526 - accuracy: 0.8130 - val_loss: 0.6634 - val_accuracy: 0.7583\n",
      "Epoch 87/100\n",
      "17/17 [==============================] - 2s 100ms/step - loss: 0.5473 - accuracy: 0.8167 - val_loss: 0.6585 - val_accuracy: 0.7500\n",
      "Epoch 88/100\n",
      "17/17 [==============================] - 2s 100ms/step - loss: 0.5416 - accuracy: 0.8176 - val_loss: 0.6534 - val_accuracy: 0.7500\n",
      "Epoch 89/100\n",
      "17/17 [==============================] - 2s 100ms/step - loss: 0.5366 - accuracy: 0.8222 - val_loss: 0.6486 - val_accuracy: 0.7417\n",
      "Epoch 90/100\n",
      "17/17 [==============================] - 2s 100ms/step - loss: 0.5314 - accuracy: 0.8231 - val_loss: 0.6428 - val_accuracy: 0.7500\n",
      "Epoch 91/100\n",
      "17/17 [==============================] - 2s 100ms/step - loss: 0.5262 - accuracy: 0.8250 - val_loss: 0.6384 - val_accuracy: 0.7500\n",
      "Epoch 92/100\n",
      "17/17 [==============================] - 2s 100ms/step - loss: 0.5209 - accuracy: 0.8269 - val_loss: 0.6337 - val_accuracy: 0.7667\n",
      "Epoch 93/100\n",
      "17/17 [==============================] - 2s 101ms/step - loss: 0.5161 - accuracy: 0.8306 - val_loss: 0.6283 - val_accuracy: 0.7750\n",
      "Epoch 94/100\n",
      "17/17 [==============================] - 2s 100ms/step - loss: 0.5112 - accuracy: 0.8343 - val_loss: 0.6245 - val_accuracy: 0.7750\n",
      "Epoch 95/100\n",
      "17/17 [==============================] - 2s 100ms/step - loss: 0.5067 - accuracy: 0.8343 - val_loss: 0.6204 - val_accuracy: 0.7750\n",
      "Epoch 96/100\n",
      "17/17 [==============================] - 2s 101ms/step - loss: 0.5016 - accuracy: 0.8370 - val_loss: 0.6159 - val_accuracy: 0.7833\n",
      "Epoch 97/100\n",
      "17/17 [==============================] - 2s 105ms/step - loss: 0.4973 - accuracy: 0.8380 - val_loss: 0.6121 - val_accuracy: 0.7750\n",
      "Epoch 98/100\n",
      "17/17 [==============================] - 2s 100ms/step - loss: 0.4925 - accuracy: 0.8417 - val_loss: 0.6079 - val_accuracy: 0.7917\n",
      "Epoch 99/100\n",
      "17/17 [==============================] - 2s 100ms/step - loss: 0.4881 - accuracy: 0.8463 - val_loss: 0.6037 - val_accuracy: 0.7917\n",
      "Epoch 100/100\n",
      "17/17 [==============================] - 2s 100ms/step - loss: 0.4836 - accuracy: 0.8472 - val_loss: 0.6003 - val_accuracy: 0.8000\n"
     ]
    }
   ],
   "source": [
    "train_dataset = tf.data.Dataset.from_tensor_slices((X_train, Y_train)).batch(64)\n",
    "test_dataset = tf.data.Dataset.from_tensor_slices((X_test, Y_test)).batch(64)\n",
    "history = conv_model.fit(train_dataset, epochs=100, validation_data=test_dataset)"
   ]
  },
  {
   "cell_type": "markdown",
   "metadata": {},
   "source": [
    "<a name='5'></a>\n",
    "## 5 - History Object \n",
    "\n",
    "The history object is an output of the `.fit()` operation, and provides a record of all the loss and metric values in memory. It's stored as a dictionary that you can retrieve at `history.history`: "
   ]
  },
  {
   "cell_type": "code",
   "execution_count": 30,
   "metadata": {},
   "outputs": [
    {
     "data": {
      "text/plain": [
       "{'loss': [1.8512853384017944,\n",
       "  1.7857152223587036,\n",
       "  1.7758755683898926,\n",
       "  1.7698299884796143,\n",
       "  1.7635596990585327,\n",
       "  1.757032036781311,\n",
       "  1.7497186660766602,\n",
       "  1.741393804550171,\n",
       "  1.7308257818222046,\n",
       "  1.7191274166107178,\n",
       "  1.7053695917129517,\n",
       "  1.6891347169876099,\n",
       "  1.6704376935958862,\n",
       "  1.648118257522583,\n",
       "  1.62230384349823,\n",
       "  1.592657208442688,\n",
       "  1.5582356452941895,\n",
       "  1.5213602781295776,\n",
       "  1.4823750257492065,\n",
       "  1.4430608749389648,\n",
       "  1.4037988185882568,\n",
       "  1.3654658794403076,\n",
       "  1.3285826444625854,\n",
       "  1.2938600778579712,\n",
       "  1.2606518268585205,\n",
       "  1.2296955585479736,\n",
       "  1.1997332572937012,\n",
       "  1.1729124784469604,\n",
       "  1.146005630493164,\n",
       "  1.1198160648345947,\n",
       "  1.096510887145996,\n",
       "  1.0756806135177612,\n",
       "  1.0559853315353394,\n",
       "  1.0364911556243896,\n",
       "  1.0176570415496826,\n",
       "  1.0004820823669434,\n",
       "  0.9832049608230591,\n",
       "  0.9676524996757507,\n",
       "  0.9529701471328735,\n",
       "  0.9374387860298157,\n",
       "  0.9214164614677429,\n",
       "  0.9060214161872864,\n",
       "  0.8913432359695435,\n",
       "  0.8771061301231384,\n",
       "  0.8635189533233643,\n",
       "  0.8507655262947083,\n",
       "  0.8384988307952881,\n",
       "  0.8264756202697754,\n",
       "  0.815949022769928,\n",
       "  0.8054444193840027,\n",
       "  0.7949101328849792,\n",
       "  0.7850407958030701,\n",
       "  0.7756518721580505,\n",
       "  0.7668040990829468,\n",
       "  0.7581618428230286,\n",
       "  0.7496730089187622,\n",
       "  0.7415012717247009,\n",
       "  0.7333594560623169,\n",
       "  0.7255550026893616,\n",
       "  0.7184469103813171,\n",
       "  0.7110710740089417,\n",
       "  0.7038657665252686,\n",
       "  0.6965691447257996,\n",
       "  0.6899990439414978,\n",
       "  0.6827355027198792,\n",
       "  0.67598557472229,\n",
       "  0.6695065498352051,\n",
       "  0.6629774570465088,\n",
       "  0.6566453576087952,\n",
       "  0.6497077941894531,\n",
       "  0.6432046890258789,\n",
       "  0.6363664269447327,\n",
       "  0.6302866339683533,\n",
       "  0.6230767369270325,\n",
       "  0.6170920133590698,\n",
       "  0.611328661441803,\n",
       "  0.6049492955207825,\n",
       "  0.5987920165061951,\n",
       "  0.5930771231651306,\n",
       "  0.586854875087738,\n",
       "  0.5809309482574463,\n",
       "  0.5750064253807068,\n",
       "  0.5698015093803406,\n",
       "  0.5636777877807617,\n",
       "  0.5582610368728638,\n",
       "  0.5526268482208252,\n",
       "  0.547250509262085,\n",
       "  0.5416327714920044,\n",
       "  0.5365871787071228,\n",
       "  0.5313580632209778,\n",
       "  0.5262349843978882,\n",
       "  0.5209214091300964,\n",
       "  0.5161066055297852,\n",
       "  0.5112320184707642,\n",
       "  0.5066729784011841,\n",
       "  0.5016223788261414,\n",
       "  0.4973298907279968,\n",
       "  0.4924992322921753,\n",
       "  0.4881400763988495,\n",
       "  0.4836330711841583],\n",
       " 'accuracy': [0.1944444477558136,\n",
       "  0.17407406866550446,\n",
       "  0.23148147761821747,\n",
       "  0.28240740299224854,\n",
       "  0.317592591047287,\n",
       "  0.3462963104248047,\n",
       "  0.3472222089767456,\n",
       "  0.38333332538604736,\n",
       "  0.41111111640930176,\n",
       "  0.4268518388271332,\n",
       "  0.4342592656612396,\n",
       "  0.4481481611728668,\n",
       "  0.45277777314186096,\n",
       "  0.4694444537162781,\n",
       "  0.4833333194255829,\n",
       "  0.5064814686775208,\n",
       "  0.5092592835426331,\n",
       "  0.5120370388031006,\n",
       "  0.5287036895751953,\n",
       "  0.5333333611488342,\n",
       "  0.5351851582527161,\n",
       "  0.5361111164093018,\n",
       "  0.5416666865348816,\n",
       "  0.5490740537643433,\n",
       "  0.5601851940155029,\n",
       "  0.5638889074325562,\n",
       "  0.5759259462356567,\n",
       "  0.5870370268821716,\n",
       "  0.5962963104248047,\n",
       "  0.6074073910713196,\n",
       "  0.6157407164573669,\n",
       "  0.6203703880310059,\n",
       "  0.6277777552604675,\n",
       "  0.6388888955116272,\n",
       "  0.6481481194496155,\n",
       "  0.6527777910232544,\n",
       "  0.6583333611488342,\n",
       "  0.6675925850868225,\n",
       "  0.6768518686294556,\n",
       "  0.6777777671813965,\n",
       "  0.6805555820465088,\n",
       "  0.6870370507240295,\n",
       "  0.6898148059844971,\n",
       "  0.6888889074325562,\n",
       "  0.6953703761100769,\n",
       "  0.6981481313705444,\n",
       "  0.7009259462356567,\n",
       "  0.7074074149131775,\n",
       "  0.7083333134651184,\n",
       "  0.7138888835906982,\n",
       "  0.7157407402992249,\n",
       "  0.7166666388511658,\n",
       "  0.7185184955596924,\n",
       "  0.7222222089767456,\n",
       "  0.7259259223937988,\n",
       "  0.729629635810852,\n",
       "  0.7361111044883728,\n",
       "  0.7407407164573669,\n",
       "  0.7425925731658936,\n",
       "  0.7444444298744202,\n",
       "  0.7509258985519409,\n",
       "  0.7537037134170532,\n",
       "  0.7546296119689941,\n",
       "  0.7611111402511597,\n",
       "  0.7611111402511597,\n",
       "  0.7638888955116272,\n",
       "  0.7657407522201538,\n",
       "  0.7666666507720947,\n",
       "  0.7731481194496155,\n",
       "  0.7787036895751953,\n",
       "  0.7814815044403076,\n",
       "  0.7842592597007751,\n",
       "  0.7851851582527161,\n",
       "  0.7907407283782959,\n",
       "  0.7935185432434082,\n",
       "  0.7944444417953491,\n",
       "  0.7953703999519348,\n",
       "  0.8009259104728699,\n",
       "  0.7981481552124023,\n",
       "  0.8037037253379822,\n",
       "  0.8037037253379822,\n",
       "  0.8064814805984497,\n",
       "  0.8101851940155029,\n",
       "  0.8111110925674438,\n",
       "  0.8148148059844971,\n",
       "  0.8129629492759705,\n",
       "  0.8166666626930237,\n",
       "  0.8175926208496094,\n",
       "  0.8222222328186035,\n",
       "  0.8231481313705444,\n",
       "  0.824999988079071,\n",
       "  0.8268518447875977,\n",
       "  0.8305555582046509,\n",
       "  0.8342592716217041,\n",
       "  0.8342592716217041,\n",
       "  0.8370370268821716,\n",
       "  0.8379629850387573,\n",
       "  0.8416666388511658,\n",
       "  0.8462963104248047,\n",
       "  0.8472222089767456],\n",
       " 'val_loss': [1.7890456914901733,\n",
       "  1.7793729305267334,\n",
       "  1.7733651399612427,\n",
       "  1.7690699100494385,\n",
       "  1.7640551328659058,\n",
       "  1.7571673393249512,\n",
       "  1.7501864433288574,\n",
       "  1.741384744644165,\n",
       "  1.7308064699172974,\n",
       "  1.719261884689331,\n",
       "  1.704624891281128,\n",
       "  1.6891319751739502,\n",
       "  1.6700127124786377,\n",
       "  1.6468647718429565,\n",
       "  1.6200486421585083,\n",
       "  1.5890343189239502,\n",
       "  1.5524884462356567,\n",
       "  1.5139416456222534,\n",
       "  1.4745112657546997,\n",
       "  1.43501615524292,\n",
       "  1.3963699340820312,\n",
       "  1.3590922355651855,\n",
       "  1.3242108821868896,\n",
       "  1.290698528289795,\n",
       "  1.2597432136535645,\n",
       "  1.2306022644042969,\n",
       "  1.2037997245788574,\n",
       "  1.1790621280670166,\n",
       "  1.152374029159546,\n",
       "  1.1279698610305786,\n",
       "  1.1097791194915771,\n",
       "  1.0920170545578003,\n",
       "  1.0726462602615356,\n",
       "  1.058068037033081,\n",
       "  1.041974663734436,\n",
       "  1.028074860572815,\n",
       "  1.0144193172454834,\n",
       "  1.002410650253296,\n",
       "  0.9904152154922485,\n",
       "  0.9769805669784546,\n",
       "  0.9671630859375,\n",
       "  0.9525052905082703,\n",
       "  0.9420068264007568,\n",
       "  0.9307186007499695,\n",
       "  0.920301079750061,\n",
       "  0.9108230471611023,\n",
       "  0.9012173414230347,\n",
       "  0.8926646113395691,\n",
       "  0.8836351037025452,\n",
       "  0.875311553478241,\n",
       "  0.8665398955345154,\n",
       "  0.858877420425415,\n",
       "  0.8513789772987366,\n",
       "  0.8438187837600708,\n",
       "  0.8367236852645874,\n",
       "  0.8288410902023315,\n",
       "  0.8220279216766357,\n",
       "  0.8152601718902588,\n",
       "  0.8084695339202881,\n",
       "  0.8028373718261719,\n",
       "  0.7972146272659302,\n",
       "  0.7919371724128723,\n",
       "  0.7870305180549622,\n",
       "  0.7826802730560303,\n",
       "  0.7768403887748718,\n",
       "  0.7731086611747742,\n",
       "  0.7689698338508606,\n",
       "  0.7647796273231506,\n",
       "  0.7588497400283813,\n",
       "  0.7529457211494446,\n",
       "  0.7462533116340637,\n",
       "  0.7406275272369385,\n",
       "  0.7365409135818481,\n",
       "  0.7289565801620483,\n",
       "  0.7250446677207947,\n",
       "  0.7179239988327026,\n",
       "  0.7137308120727539,\n",
       "  0.7055932283401489,\n",
       "  0.702163577079773,\n",
       "  0.6953786611557007,\n",
       "  0.6897043585777283,\n",
       "  0.6846999526023865,\n",
       "  0.6800440549850464,\n",
       "  0.6719959378242493,\n",
       "  0.6698223948478699,\n",
       "  0.6634401679039001,\n",
       "  0.6585217714309692,\n",
       "  0.6533582210540771,\n",
       "  0.648627519607544,\n",
       "  0.6428090929985046,\n",
       "  0.6383911967277527,\n",
       "  0.6336841583251953,\n",
       "  0.6283361911773682,\n",
       "  0.6244661808013916,\n",
       "  0.6203752160072327,\n",
       "  0.6158632040023804,\n",
       "  0.612075924873352,\n",
       "  0.6078857183456421,\n",
       "  0.6037369966506958,\n",
       "  0.6003236174583435],\n",
       " 'val_accuracy': [0.15000000596046448,\n",
       "  0.1666666716337204,\n",
       "  0.28333333134651184,\n",
       "  0.2750000059604645,\n",
       "  0.2916666567325592,\n",
       "  0.38333332538604736,\n",
       "  0.375,\n",
       "  0.4166666567325592,\n",
       "  0.4333333373069763,\n",
       "  0.4583333432674408,\n",
       "  0.4583333432674408,\n",
       "  0.4583333432674408,\n",
       "  0.44999998807907104,\n",
       "  0.4583333432674408,\n",
       "  0.4833333194255829,\n",
       "  0.5333333611488342,\n",
       "  0.5333333611488342,\n",
       "  0.5333333611488342,\n",
       "  0.574999988079071,\n",
       "  0.5666666626930237,\n",
       "  0.574999988079071,\n",
       "  0.550000011920929,\n",
       "  0.550000011920929,\n",
       "  0.5583333373069763,\n",
       "  0.574999988079071,\n",
       "  0.5916666388511658,\n",
       "  0.6000000238418579,\n",
       "  0.6000000238418579,\n",
       "  0.625,\n",
       "  0.6333333253860474,\n",
       "  0.6416666507720947,\n",
       "  0.6499999761581421,\n",
       "  0.6583333611488342,\n",
       "  0.6583333611488342,\n",
       "  0.6583333611488342,\n",
       "  0.6666666865348816,\n",
       "  0.675000011920929,\n",
       "  0.6833333373069763,\n",
       "  0.6833333373069763,\n",
       "  0.6833333373069763,\n",
       "  0.6833333373069763,\n",
       "  0.699999988079071,\n",
       "  0.699999988079071,\n",
       "  0.7083333134651184,\n",
       "  0.7083333134651184,\n",
       "  0.7166666388511658,\n",
       "  0.7250000238418579,\n",
       "  0.699999988079071,\n",
       "  0.7333333492279053,\n",
       "  0.7250000238418579,\n",
       "  0.7250000238418579,\n",
       "  0.7250000238418579,\n",
       "  0.7416666746139526,\n",
       "  0.7333333492279053,\n",
       "  0.7333333492279053,\n",
       "  0.7333333492279053,\n",
       "  0.7333333492279053,\n",
       "  0.7333333492279053,\n",
       "  0.7333333492279053,\n",
       "  0.7250000238418579,\n",
       "  0.7250000238418579,\n",
       "  0.7250000238418579,\n",
       "  0.7416666746139526,\n",
       "  0.7416666746139526,\n",
       "  0.7416666746139526,\n",
       "  0.7416666746139526,\n",
       "  0.7333333492279053,\n",
       "  0.7416666746139526,\n",
       "  0.7416666746139526,\n",
       "  0.7416666746139526,\n",
       "  0.7583333253860474,\n",
       "  0.7583333253860474,\n",
       "  0.75,\n",
       "  0.7666666507720947,\n",
       "  0.7583333253860474,\n",
       "  0.7749999761581421,\n",
       "  0.7666666507720947,\n",
       "  0.7666666507720947,\n",
       "  0.7666666507720947,\n",
       "  0.7666666507720947,\n",
       "  0.7666666507720947,\n",
       "  0.7666666507720947,\n",
       "  0.7666666507720947,\n",
       "  0.7666666507720947,\n",
       "  0.7583333253860474,\n",
       "  0.7583333253860474,\n",
       "  0.75,\n",
       "  0.75,\n",
       "  0.7416666746139526,\n",
       "  0.75,\n",
       "  0.75,\n",
       "  0.7666666507720947,\n",
       "  0.7749999761581421,\n",
       "  0.7749999761581421,\n",
       "  0.7749999761581421,\n",
       "  0.7833333611488342,\n",
       "  0.7749999761581421,\n",
       "  0.7916666865348816,\n",
       "  0.7916666865348816,\n",
       "  0.800000011920929]}"
      ]
     },
     "execution_count": 30,
     "metadata": {},
     "output_type": "execute_result"
    }
   ],
   "source": [
    "history.history"
   ]
  },
  {
   "cell_type": "markdown",
   "metadata": {},
   "source": [
    "Now visualize the loss over time using `history.history`: "
   ]
  },
  {
   "cell_type": "code",
   "execution_count": 31,
   "metadata": {},
   "outputs": [
    {
     "data": {
      "text/plain": [
       "[Text(0, 0.5, 'Accuracy'), Text(0.5, 0, 'Epoch')]"
      ]
     },
     "execution_count": 31,
     "metadata": {},
     "output_type": "execute_result"
    },
    {
     "data": {
      "image/png": "[encoded data removed]",
      "text/plain": [
       "<Figure size 864x576 with 1 Axes>"
      ]
     },
     "metadata": {
      "needs_background": "light"
     },
     "output_type": "display_data"
    },
    {
     "data": {
      "image/png": "[encoded data removed]",
      "text/plain": [
       "<Figure size 864x576 with 1 Axes>"
      ]
     },
     "metadata": {
      "needs_background": "light"
     },
     "output_type": "display_data"
    }
   ],
   "source": [
    "# The history.history[\"loss\"] entry is a dictionary with as many values as epochs that the\n",
    "# model was trained on. \n",
    "df_loss_acc = pd.DataFrame(history.history)\n",
    "df_loss= df_loss_acc[['loss','val_loss']]\n",
    "df_loss.rename(columns={'loss':'train','val_loss':'validation'},inplace=True)\n",
    "df_acc= df_loss_acc[['accuracy','val_accuracy']]\n",
    "df_acc.rename(columns={'accuracy':'train','val_accuracy':'validation'},inplace=True)\n",
    "df_loss.plot(title='Model loss',figsize=(12,8)).set(xlabel='Epoch',ylabel='Loss')\n",
    "df_acc.plot(title='Model Accuracy',figsize=(12,8)).set(xlabel='Epoch',ylabel='Accuracy')"
   ]
  },
  {
   "cell_type": "markdown",
   "metadata": {},
   "source": [
    "**Congratulations**! You've finished the assignment and built two models: One that recognizes  smiles, and another that recognizes SIGN language with almost 80% accuracy on the test set. In addition to that, you now also understand the applications of two Keras APIs: Sequential and Functional. Nicely done! \n",
    "\n",
    "By now, you know a bit about how the Functional API works and may have glimpsed the possibilities. In your next assignment, you'll really get a feel for its power when you get the opportunity to build a very deep ConvNet, using ResNets! "
   ]
  },
  {
   "cell_type": "markdown",
   "metadata": {},
   "source": [
    "<a name='6'></a>\n",
    "## 6 - Bibliography\n",
    "\n",
    "You're always encouraged to read the official documentation. To that end, you can find the docs for the Sequential and Functional APIs here: \n",
    "\n",
    "https://www.tensorflow.org/guide/keras/sequential_model\n",
    "\n",
    "https://www.tensorflow.org/guide/keras/functional"
   ]
  }
 ],
 "metadata": {
  "coursera": {
   "course_slug": "convolutional-neural-networks",
   "graded_item_id": "bwbJV",
   "launcher_item_id": "0TkXB"
  },
  "kernelspec": {
   "display_name": "Python 3",
   "language": "python",
   "name": "python3"
  },
  "language_info": {
   "codemirror_mode": {
    "name": "ipython",
    "version": 3
   },
   "file_extension": ".py",
   "mimetype": "text/x-python",
   "name": "python",
   "nbconvert_exporter": "python",
   "pygments_lexer": "ipython3",
   "version": "3.7.6"
  }
 },
 "nbformat": 4,
 "nbformat_minor": 2
}
